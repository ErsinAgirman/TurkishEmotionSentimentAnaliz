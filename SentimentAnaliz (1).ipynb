{
  "nbformat": 4,
  "nbformat_minor": 0,
  "metadata": {
    "colab": {
      "provenance": []
    },
    "kernelspec": {
      "name": "python3",
      "display_name": "Python 3"
    },
    "language_info": {
      "name": "python"
    }
  },
  "cells": [
    {
      "cell_type": "code",
      "execution_count": null,
      "metadata": {
        "id": "h0X-Nze5qpcW",
        "colab": {
          "base_uri": "https://localhost:8080/"
        },
        "outputId": "2fc233b0-930c-4c8c-f24d-3cd6e82599b5"
      },
      "outputs": [
        {
          "output_type": "stream",
          "name": "stdout",
          "text": [
            "Mounted at /content/drive\n"
          ]
        }
      ],
      "source": [
        "from google.colab import drive\n",
        "drive.mount('/content/drive')"
      ]
    },
    {
      "cell_type": "code",
      "source": [
        "import numpy as np\n",
        "import re\n",
        "import pandas as pd\n",
        "import nltk\n",
        "nltk.download('stopwords')\n",
        "import pickle\n",
        "from nltk.corpus import stopwords\n",
        "stopWords = set(stopwords.words('turkish'))\n",
        "nltk.download('punkt')\n",
        "nltk.download('wordnet')\n",
        "nltk.download('omw-1.4')"
      ],
      "metadata": {
        "colab": {
          "base_uri": "https://localhost:8080/"
        },
        "id": "t5-DHOEAqzGC",
        "outputId": "87bcb7fe-76bc-485b-a39b-18fcd1c2696c"
      },
      "execution_count": null,
      "outputs": [
        {
          "output_type": "stream",
          "name": "stderr",
          "text": [
            "[nltk_data] Downloading package stopwords to /root/nltk_data...\n",
            "[nltk_data]   Unzipping corpora/stopwords.zip.\n",
            "[nltk_data] Downloading package punkt to /root/nltk_data...\n",
            "[nltk_data]   Unzipping tokenizers/punkt.zip.\n",
            "[nltk_data] Downloading package wordnet to /root/nltk_data...\n",
            "[nltk_data] Downloading package omw-1.4 to /root/nltk_data...\n"
          ]
        },
        {
          "output_type": "execute_result",
          "data": {
            "text/plain": [
              "True"
            ]
          },
          "metadata": {},
          "execution_count": 2
        }
      ]
    },
    {
      "cell_type": "code",
      "source": [
        "df_train = pd.read_csv('/content/drive/MyDrive/YapayZeka/train.csv', encoding= 'unicode_escape')\n",
        "df_test = pd.read_csv('/content/drive/MyDrive/YapayZeka/test.csv', encoding= 'unicode_escape')"
      ],
      "metadata": {
        "id": "Z6ovCbpFq3E1"
      },
      "execution_count": null,
      "outputs": []
    },
    {
      "cell_type": "code",
      "source": [
        "def pre_processing(text):\n",
        "    text = text.lower()  # Büyük harften küçük harfe çevir\n",
        "    text = re.sub(\"[^abcçdefgğhıijklmnoöprsştuüvyz]\", \" \", text)\n",
        "    text = nltk.word_tokenize(text)\n",
        "    text = [word for word in text if not word in stopWords]\n",
        "    lemma = nltk.WordNetLemmatizer()\n",
        "    text = [lemma.lemmatize(word) for word in text]\n",
        "    text = \" \".join(text)\n",
        "    return text"
      ],
      "metadata": {
        "id": "1FFRs2pjq5wg"
      },
      "execution_count": null,
      "outputs": []
    },
    {
      "cell_type": "code",
      "source": [
        "df_train[\"clean_text\"] = df_train[\"comment\"].apply(lambda x: pre_processing(x))\n",
        "df_test[\"clean_text\"] = df_test[\"comment\"].apply(lambda x: pre_processing(x))\n"
      ],
      "metadata": {
        "id": "hrus2cp_q8QS"
      },
      "execution_count": null,
      "outputs": []
    },
    {
      "cell_type": "code",
      "source": [
        "X_train = df_train[\"clean_text\"]\n",
        "X_test = df_test[\"clean_text\"]\n",
        "y_train = df_train[\"Label\"]\n",
        "y_test = df_test[\"Label\"]"
      ],
      "metadata": {
        "id": "S9ptsZW_q-fV"
      },
      "execution_count": null,
      "outputs": []
    },
    {
      "cell_type": "code",
      "source": [
        "print(\"x_train\", X_train.shape)\n",
        "print(\"x_test\", X_test.shape)\n",
        "print(\"y_train\", y_train.shape)\n",
        "print(\"y_test\", y_test.shape)"
      ],
      "metadata": {
        "colab": {
          "base_uri": "https://localhost:8080/"
        },
        "id": "B-KMdiirrAWg",
        "outputId": "cbf02104-0c68-4e3c-8c57-a8fabc143cbb"
      },
      "execution_count": null,
      "outputs": [
        {
          "output_type": "stream",
          "name": "stdout",
          "text": [
            "x_train (7996,)\n",
            "x_test (2666,)\n",
            "y_train (7996,)\n",
            "y_test (2666,)\n"
          ]
        }
      ]
    },
    {
      "cell_type": "code",
      "source": [
        "from sklearn.linear_model import LogisticRegression\n",
        "from sklearn.pipeline import Pipeline\n",
        "from sklearn.feature_extraction.text import TfidfVectorizer"
      ],
      "metadata": {
        "id": "iUh0HKsCrCNF"
      },
      "execution_count": null,
      "outputs": []
    },
    {
      "cell_type": "code",
      "source": [
        "# Modeli oluştur ve eğit\n",
        "model = Pipeline([('tfidf', TfidfVectorizer()), ('clf', LogisticRegression())])\n",
        "model.fit(X_train, y_train)"
      ],
      "metadata": {
        "colab": {
          "base_uri": "https://localhost:8080/",
          "height": 172
        },
        "id": "0-feFPjErEPM",
        "outputId": "798a3b31-a569-460f-d3b5-a719544273e1"
      },
      "execution_count": null,
      "outputs": [
        {
          "output_type": "execute_result",
          "data": {
            "text/plain": [
              "Pipeline(steps=[('tfidf', TfidfVectorizer()), ('clf', LogisticRegression())])"
            ],
            "text/html": [
              "<style>#sk-container-id-1 {color: black;background-color: white;}#sk-container-id-1 pre{padding: 0;}#sk-container-id-1 div.sk-toggleable {background-color: white;}#sk-container-id-1 label.sk-toggleable__label {cursor: pointer;display: block;width: 100%;margin-bottom: 0;padding: 0.3em;box-sizing: border-box;text-align: center;}#sk-container-id-1 label.sk-toggleable__label-arrow:before {content: \"▸\";float: left;margin-right: 0.25em;color: #696969;}#sk-container-id-1 label.sk-toggleable__label-arrow:hover:before {color: black;}#sk-container-id-1 div.sk-estimator:hover label.sk-toggleable__label-arrow:before {color: black;}#sk-container-id-1 div.sk-toggleable__content {max-height: 0;max-width: 0;overflow: hidden;text-align: left;background-color: #f0f8ff;}#sk-container-id-1 div.sk-toggleable__content pre {margin: 0.2em;color: black;border-radius: 0.25em;background-color: #f0f8ff;}#sk-container-id-1 input.sk-toggleable__control:checked~div.sk-toggleable__content {max-height: 200px;max-width: 100%;overflow: auto;}#sk-container-id-1 input.sk-toggleable__control:checked~label.sk-toggleable__label-arrow:before {content: \"▾\";}#sk-container-id-1 div.sk-estimator input.sk-toggleable__control:checked~label.sk-toggleable__label {background-color: #d4ebff;}#sk-container-id-1 div.sk-label input.sk-toggleable__control:checked~label.sk-toggleable__label {background-color: #d4ebff;}#sk-container-id-1 input.sk-hidden--visually {border: 0;clip: rect(1px 1px 1px 1px);clip: rect(1px, 1px, 1px, 1px);height: 1px;margin: -1px;overflow: hidden;padding: 0;position: absolute;width: 1px;}#sk-container-id-1 div.sk-estimator {font-family: monospace;background-color: #f0f8ff;border: 1px dotted black;border-radius: 0.25em;box-sizing: border-box;margin-bottom: 0.5em;}#sk-container-id-1 div.sk-estimator:hover {background-color: #d4ebff;}#sk-container-id-1 div.sk-parallel-item::after {content: \"\";width: 100%;border-bottom: 1px solid gray;flex-grow: 1;}#sk-container-id-1 div.sk-label:hover label.sk-toggleable__label {background-color: #d4ebff;}#sk-container-id-1 div.sk-serial::before {content: \"\";position: absolute;border-left: 1px solid gray;box-sizing: border-box;top: 0;bottom: 0;left: 50%;z-index: 0;}#sk-container-id-1 div.sk-serial {display: flex;flex-direction: column;align-items: center;background-color: white;padding-right: 0.2em;padding-left: 0.2em;position: relative;}#sk-container-id-1 div.sk-item {position: relative;z-index: 1;}#sk-container-id-1 div.sk-parallel {display: flex;align-items: stretch;justify-content: center;background-color: white;position: relative;}#sk-container-id-1 div.sk-item::before, #sk-container-id-1 div.sk-parallel-item::before {content: \"\";position: absolute;border-left: 1px solid gray;box-sizing: border-box;top: 0;bottom: 0;left: 50%;z-index: -1;}#sk-container-id-1 div.sk-parallel-item {display: flex;flex-direction: column;z-index: 1;position: relative;background-color: white;}#sk-container-id-1 div.sk-parallel-item:first-child::after {align-self: flex-end;width: 50%;}#sk-container-id-1 div.sk-parallel-item:last-child::after {align-self: flex-start;width: 50%;}#sk-container-id-1 div.sk-parallel-item:only-child::after {width: 0;}#sk-container-id-1 div.sk-dashed-wrapped {border: 1px dashed gray;margin: 0 0.4em 0.5em 0.4em;box-sizing: border-box;padding-bottom: 0.4em;background-color: white;}#sk-container-id-1 div.sk-label label {font-family: monospace;font-weight: bold;display: inline-block;line-height: 1.2em;}#sk-container-id-1 div.sk-label-container {text-align: center;}#sk-container-id-1 div.sk-container {/* jupyter's `normalize.less` sets `[hidden] { display: none; }` but bootstrap.min.css set `[hidden] { display: none !important; }` so we also need the `!important` here to be able to override the default hidden behavior on the sphinx rendered scikit-learn.org. See: https://github.com/scikit-learn/scikit-learn/issues/21755 */display: inline-block !important;position: relative;}#sk-container-id-1 div.sk-text-repr-fallback {display: none;}</style><div id=\"sk-container-id-1\" class=\"sk-top-container\"><div class=\"sk-text-repr-fallback\"><pre>Pipeline(steps=[(&#x27;tfidf&#x27;, TfidfVectorizer()), (&#x27;clf&#x27;, LogisticRegression())])</pre><b>In a Jupyter environment, please rerun this cell to show the HTML representation or trust the notebook. <br />On GitHub, the HTML representation is unable to render, please try loading this page with nbviewer.org.</b></div><div class=\"sk-container\" hidden><div class=\"sk-item sk-dashed-wrapped\"><div class=\"sk-label-container\"><div class=\"sk-label sk-toggleable\"><input class=\"sk-toggleable__control sk-hidden--visually\" id=\"sk-estimator-id-1\" type=\"checkbox\" ><label for=\"sk-estimator-id-1\" class=\"sk-toggleable__label sk-toggleable__label-arrow\">Pipeline</label><div class=\"sk-toggleable__content\"><pre>Pipeline(steps=[(&#x27;tfidf&#x27;, TfidfVectorizer()), (&#x27;clf&#x27;, LogisticRegression())])</pre></div></div></div><div class=\"sk-serial\"><div class=\"sk-item\"><div class=\"sk-estimator sk-toggleable\"><input class=\"sk-toggleable__control sk-hidden--visually\" id=\"sk-estimator-id-2\" type=\"checkbox\" ><label for=\"sk-estimator-id-2\" class=\"sk-toggleable__label sk-toggleable__label-arrow\">TfidfVectorizer</label><div class=\"sk-toggleable__content\"><pre>TfidfVectorizer()</pre></div></div></div><div class=\"sk-item\"><div class=\"sk-estimator sk-toggleable\"><input class=\"sk-toggleable__control sk-hidden--visually\" id=\"sk-estimator-id-3\" type=\"checkbox\" ><label for=\"sk-estimator-id-3\" class=\"sk-toggleable__label sk-toggleable__label-arrow\">LogisticRegression</label><div class=\"sk-toggleable__content\"><pre>LogisticRegression()</pre></div></div></div></div></div></div></div>"
            ]
          },
          "metadata": {},
          "execution_count": 9
        }
      ]
    },
    {
      "cell_type": "code",
      "source": [
        "# Modeli kaydet\n",
        "with open('/content/drive/MyDrive/YapayZeka/logistic_regression_model.pkl', 'wb') as model_file:\n",
        "    pickle.dump(model, model_file)"
      ],
      "metadata": {
        "id": "RD-pBFagrGVC"
      },
      "execution_count": null,
      "outputs": []
    },
    {
      "cell_type": "code",
      "source": [
        "from sklearn.metrics import confusion_matrix, accuracy_score, classification_report, precision_score, recall_score, f1_score\n",
        "import matplotlib.pyplot as plt\n",
        "import seaborn as sns\n",
        "from sklearn.model_selection import cross_val_score"
      ],
      "metadata": {
        "id": "6KFZxYjRrJkP"
      },
      "execution_count": null,
      "outputs": []
    },
    {
      "cell_type": "code",
      "source": [
        "def plot_confusion_matrix(Y_test, Y_preds):\n",
        "    conf_mat = confusion_matrix(Y_test, Y_preds)\n",
        "    fig = plt.figure(figsize=(6,6))\n",
        "    plt.matshow(conf_mat, cmap=plt.cm.Blues, fignum=1)\n",
        "    plt.yticks(range(2), range(2))\n",
        "    plt.xticks(range(2), range(2))\n",
        "    plt.colorbar()\n",
        "    for i in range(2):\n",
        "        for j in range(2):\n",
        "            plt.text(i-0.2, j+0.1, str(conf_mat[j, i]), color='tab:red')"
      ],
      "metadata": {
        "id": "qCFEtUlcrNBQ"
      },
      "execution_count": null,
      "outputs": []
    },
    {
      "cell_type": "code",
      "source": [
        "cv_scores = cross_val_score(model, X_train, y_train, cv=10)\n",
        "print(\"CV average score: %.2f\" % cv_scores.mean())\n",
        "\n",
        "result = model.predict(X_test)\n",
        "cr = classification_report(y_test, result)\n",
        "print(cr)\n",
        "\n",
        "print('Train Accuracy : %.3f' % model.score(X_train, y_train))\n",
        "print('Test Accuracy : %.3f' % model.score(X_test, y_test))\n",
        "\n",
        "y_pred = model.predict(X_test)\n",
        "print(precision_score(y_test, y_pred, average='macro'), \": is the precision score\")\n",
        "print(recall_score(y_test, y_pred, average='macro'), \": is the recall score\")\n",
        "print(f1_score(y_test, y_pred, average='macro'), \": is the f1 score\")\n",
        "\n",
        "plot_confusion_matrix(y_test, model.predict(X_test))"
      ],
      "metadata": {
        "colab": {
          "base_uri": "https://localhost:8080/",
          "height": 761
        },
        "id": "YZzHSlgorQBE",
        "outputId": "cf372e52-de9f-4fe9-f6b6-30d8a74ca4ad"
      },
      "execution_count": null,
      "outputs": [
        {
          "output_type": "stream",
          "name": "stdout",
          "text": [
            "CV average score: 0.89\n",
            "              precision    recall  f1-score   support\n",
            "\n",
            "           0       0.88      0.90      0.89      1333\n",
            "           1       0.90      0.88      0.89      1333\n",
            "\n",
            "    accuracy                           0.89      2666\n",
            "   macro avg       0.89      0.89      0.89      2666\n",
            "weighted avg       0.89      0.89      0.89      2666\n",
            "\n",
            "Train Accuracy : 0.952\n",
            "Test Accuracy : 0.890\n",
            "0.8902347849193588 : is the precision score\n",
            "0.8900975243810954 : is the recall score\n",
            "0.8900878593024191 : is the f1 score\n"
          ]
        },
        {
          "output_type": "display_data",
          "data": {
            "text/plain": [
              "<Figure size 600x600 with 2 Axes>"
            ],
            "image/png": "[encoded data removed]"
          },
          "metadata": {}
        }
      ]
    },
    {
      "cell_type": "code",
      "source": [
        "from bs4 import BeautifulSoup\n",
        "\n",
        "html_content = \"\"\"\n",
        "<div class=\"comment-content\">\n",
        "    <p>Bu film çok güzeldi, kesinlikle tavsiye ederim!</p>\n",
        "</div>\n",
        "<div class=\"comment-content\">\n",
        "    <p>Kötü oyunculuk, senaryo zayıf, beğenmedim.</p>\n",
        "</div>\n",
        "<div class=\"comment-content\">\n",
        "    <p>Mükemmel bir film, tekrar izleyeceğim!</p>\n",
        "</div>\n",
        "\"\"\"\n",
        "\n",
        "soup = BeautifulSoup(html_content, 'html.parser')\n",
        "\n",
        "comment_list = []\n",
        "comments = soup.find_all(\"div\", {\"class\": \"comment-content\"})\n",
        "\n",
        "for comment in comments:\n",
        "    comment_text = comment.find(\"p\").text.strip()\n",
        "    comment_list.append(comment_text)\n",
        "\n",
        "# Çekilen yorumları ekrana yazdırma\n",
        "for comment in comment_list:\n",
        "    print(comment)\n",
        "\n",
        "\n"
      ],
      "metadata": {
        "colab": {
          "base_uri": "https://localhost:8080/"
        },
        "id": "dBd-OagArWRx",
        "outputId": "a01e1af6-8a7e-4c79-853b-6fc711485584"
      },
      "execution_count": null,
      "outputs": [
        {
          "output_type": "stream",
          "name": "stdout",
          "text": [
            "Bu film çok güzeldi, kesinlikle tavsiye ederim!\n",
            "Kötü oyunculuk, senaryo zayıf, beğenmedim.\n",
            "Mükemmel bir film, tekrar izleyeceğim!\n"
          ]
        }
      ]
    },
    {
      "cell_type": "code",
      "source": [
        "# Modeli yükleme\n",
        "with open('/content/drive/MyDrive/YapayZeka/logistic_regression_model.pkl', 'rb') as model_file:\n",
        "    model = pickle.load(model_file)\n",
        "\n",
        "# Yorumları işleyerek duygu analizi yapma\n",
        "for comment in comment_list:\n",
        "    processed_comment = pre_processing(comment)\n",
        "    prediction = model.predict([processed_comment])\n",
        "    probability = model.predict_proba([processed_comment])\n",
        "\n",
        "    if prediction[0] == 1:\n",
        "        print(comment, \" is Positive with probability:\", probability[0][1])\n",
        "    else:\n",
        "        print(comment, \" is Negative with probability:\", probability[0][0])"
      ],
      "metadata": {
        "colab": {
          "base_uri": "https://localhost:8080/"
        },
        "id": "ORwebh0irZFV",
        "outputId": "d3d030e9-66b6-4975-d0f7-f28bf5aefb7c"
      },
      "execution_count": null,
      "outputs": [
        {
          "output_type": "stream",
          "name": "stdout",
          "text": [
            "Bu film çok güzeldi, kesinlikle tavsiye ederim!  is Positive with probability: 0.9770379452691266\n",
            "Kötü oyunculuk, senaryo zayıf, beğenmedim.  is Negative with probability: 0.9778184742571431\n",
            "Mükemmel bir film, tekrar izleyeceğim!  is Positive with probability: 0.9857061387574537\n"
          ]
        }
      ]
    },
    {
      "cell_type": "code",
      "source": [
        "# Manuel metin analizi\n",
        "manuel_metin = input(\"Lütfen duygu analizi yapmak istediğiniz metni girin: \")\n",
        "\n",
        "# Metnin duygu analizini yap\n",
        "processed_manuel_metin = pre_processing(manuel_metin)\n",
        "prediction = model.predict([processed_manuel_metin])\n",
        "probability = model.predict_proba([processed_manuel_metin])\n",
        "\n",
        "# Duygu analizinin sonuçlarını yazdır\n",
        "if prediction[0] == 1:\n",
        "    print(\"Girdiğiniz metin Pozitif duygu içeriyor. Olasılık: \", probability[0][1])\n",
        "else:\n",
        "    print(\"Girdiğiniz metin Negatif duygu içeriyor. Olasılık: \", probability[0][0])"
      ],
      "metadata": {
        "id": "NHhx4h50vH10",
        "colab": {
          "base_uri": "https://localhost:8080/"
        },
        "outputId": "4aae656e-572e-4cfe-c6ed-c91ac394fb67"
      },
      "execution_count": null,
      "outputs": [
        {
          "output_type": "stream",
          "name": "stdout",
          "text": [
            "Lütfen duygu analizi yapmak istediğiniz metni girin: oyunculuğunu beğenmediğim çağatay ulusoy olmasına rağmen film başarılıydı\n",
            "Girdiğiniz metin Pozitif duygu içeriyor. Olasılık:  0.7945986219730117\n"
          ]
        }
      ]
    },
    {
      "cell_type": "code",
      "source": [],
      "metadata": {
        "id": "bnqN_Sn4P_Zb"
      },
      "execution_count": null,
      "outputs": []
    },
    {
      "cell_type": "code",
      "source": [
        "from sklearn.neighbors import KNeighborsClassifier\n",
        "from sklearn.pipeline import Pipeline\n",
        "\n",
        "# KNN Modeli oluşturma\n",
        "knn_model = Pipeline([('tfidf', TfidfVectorizer()), ('clf', KNeighborsClassifier(n_neighbors=5))])\n",
        "\n",
        "# Modeli eğitme\n",
        "knn_model.fit(X_train, y_train)\n"
      ],
      "metadata": {
        "colab": {
          "base_uri": "https://localhost:8080/",
          "height": 126
        },
        "id": "qc2mvbjlP9NO",
        "outputId": "7e64def4-d89a-417a-dfbe-2fd48863a7f5"
      },
      "execution_count": null,
      "outputs": [
        {
          "output_type": "execute_result",
          "data": {
            "text/plain": [
              "Pipeline(steps=[('tfidf', TfidfVectorizer()), ('clf', KNeighborsClassifier())])"
            ],
            "text/html": [
              "<style>#sk-container-id-2 {color: black;background-color: white;}#sk-container-id-2 pre{padding: 0;}#sk-container-id-2 div.sk-toggleable {background-color: white;}#sk-container-id-2 label.sk-toggleable__label {cursor: pointer;display: block;width: 100%;margin-bottom: 0;padding: 0.3em;box-sizing: border-box;text-align: center;}#sk-container-id-2 label.sk-toggleable__label-arrow:before {content: \"▸\";float: left;margin-right: 0.25em;color: #696969;}#sk-container-id-2 label.sk-toggleable__label-arrow:hover:before {color: black;}#sk-container-id-2 div.sk-estimator:hover label.sk-toggleable__label-arrow:before {color: black;}#sk-container-id-2 div.sk-toggleable__content {max-height: 0;max-width: 0;overflow: hidden;text-align: left;background-color: #f0f8ff;}#sk-container-id-2 div.sk-toggleable__content pre {margin: 0.2em;color: black;border-radius: 0.25em;background-color: #f0f8ff;}#sk-container-id-2 input.sk-toggleable__control:checked~div.sk-toggleable__content {max-height: 200px;max-width: 100%;overflow: auto;}#sk-container-id-2 input.sk-toggleable__control:checked~label.sk-toggleable__label-arrow:before {content: \"▾\";}#sk-container-id-2 div.sk-estimator input.sk-toggleable__control:checked~label.sk-toggleable__label {background-color: #d4ebff;}#sk-container-id-2 div.sk-label input.sk-toggleable__control:checked~label.sk-toggleable__label {background-color: #d4ebff;}#sk-container-id-2 input.sk-hidden--visually {border: 0;clip: rect(1px 1px 1px 1px);clip: rect(1px, 1px, 1px, 1px);height: 1px;margin: -1px;overflow: hidden;padding: 0;position: absolute;width: 1px;}#sk-container-id-2 div.sk-estimator {font-family: monospace;background-color: #f0f8ff;border: 1px dotted black;border-radius: 0.25em;box-sizing: border-box;margin-bottom: 0.5em;}#sk-container-id-2 div.sk-estimator:hover {background-color: #d4ebff;}#sk-container-id-2 div.sk-parallel-item::after {content: \"\";width: 100%;border-bottom: 1px solid gray;flex-grow: 1;}#sk-container-id-2 div.sk-label:hover label.sk-toggleable__label {background-color: #d4ebff;}#sk-container-id-2 div.sk-serial::before {content: \"\";position: absolute;border-left: 1px solid gray;box-sizing: border-box;top: 0;bottom: 0;left: 50%;z-index: 0;}#sk-container-id-2 div.sk-serial {display: flex;flex-direction: column;align-items: center;background-color: white;padding-right: 0.2em;padding-left: 0.2em;position: relative;}#sk-container-id-2 div.sk-item {position: relative;z-index: 1;}#sk-container-id-2 div.sk-parallel {display: flex;align-items: stretch;justify-content: center;background-color: white;position: relative;}#sk-container-id-2 div.sk-item::before, #sk-container-id-2 div.sk-parallel-item::before {content: \"\";position: absolute;border-left: 1px solid gray;box-sizing: border-box;top: 0;bottom: 0;left: 50%;z-index: -1;}#sk-container-id-2 div.sk-parallel-item {display: flex;flex-direction: column;z-index: 1;position: relative;background-color: white;}#sk-container-id-2 div.sk-parallel-item:first-child::after {align-self: flex-end;width: 50%;}#sk-container-id-2 div.sk-parallel-item:last-child::after {align-self: flex-start;width: 50%;}#sk-container-id-2 div.sk-parallel-item:only-child::after {width: 0;}#sk-container-id-2 div.sk-dashed-wrapped {border: 1px dashed gray;margin: 0 0.4em 0.5em 0.4em;box-sizing: border-box;padding-bottom: 0.4em;background-color: white;}#sk-container-id-2 div.sk-label label {font-family: monospace;font-weight: bold;display: inline-block;line-height: 1.2em;}#sk-container-id-2 div.sk-label-container {text-align: center;}#sk-container-id-2 div.sk-container {/* jupyter's `normalize.less` sets `[hidden] { display: none; }` but bootstrap.min.css set `[hidden] { display: none !important; }` so we also need the `!important` here to be able to override the default hidden behavior on the sphinx rendered scikit-learn.org. See: https://github.com/scikit-learn/scikit-learn/issues/21755 */display: inline-block !important;position: relative;}#sk-container-id-2 div.sk-text-repr-fallback {display: none;}</style><div id=\"sk-container-id-2\" class=\"sk-top-container\"><div class=\"sk-text-repr-fallback\"><pre>Pipeline(steps=[(&#x27;tfidf&#x27;, TfidfVectorizer()), (&#x27;clf&#x27;, KNeighborsClassifier())])</pre><b>In a Jupyter environment, please rerun this cell to show the HTML representation or trust the notebook. <br />On GitHub, the HTML representation is unable to render, please try loading this page with nbviewer.org.</b></div><div class=\"sk-container\" hidden><div class=\"sk-item sk-dashed-wrapped\"><div class=\"sk-label-container\"><div class=\"sk-label sk-toggleable\"><input class=\"sk-toggleable__control sk-hidden--visually\" id=\"sk-estimator-id-4\" type=\"checkbox\" ><label for=\"sk-estimator-id-4\" class=\"sk-toggleable__label sk-toggleable__label-arrow\">Pipeline</label><div class=\"sk-toggleable__content\"><pre>Pipeline(steps=[(&#x27;tfidf&#x27;, TfidfVectorizer()), (&#x27;clf&#x27;, KNeighborsClassifier())])</pre></div></div></div><div class=\"sk-serial\"><div class=\"sk-item\"><div class=\"sk-estimator sk-toggleable\"><input class=\"sk-toggleable__control sk-hidden--visually\" id=\"sk-estimator-id-5\" type=\"checkbox\" ><label for=\"sk-estimator-id-5\" class=\"sk-toggleable__label sk-toggleable__label-arrow\">TfidfVectorizer</label><div class=\"sk-toggleable__content\"><pre>TfidfVectorizer()</pre></div></div></div><div class=\"sk-item\"><div class=\"sk-estimator sk-toggleable\"><input class=\"sk-toggleable__control sk-hidden--visually\" id=\"sk-estimator-id-6\" type=\"checkbox\" ><label for=\"sk-estimator-id-6\" class=\"sk-toggleable__label sk-toggleable__label-arrow\">KNeighborsClassifier</label><div class=\"sk-toggleable__content\"><pre>KNeighborsClassifier()</pre></div></div></div></div></div></div></div>"
            ]
          },
          "metadata": {},
          "execution_count": 18
        }
      ]
    },
    {
      "cell_type": "code",
      "source": [
        "# Çapraz doğrulama skoru\n",
        "cv_scores_knn = cross_val_score(knn_model, X_train, y_train, cv=10)\n",
        "print(\"KNN CV average score: %.2f\" % cv_scores_knn.mean())\n",
        "\n",
        "# Test verileri üzerinde tahmin yapma\n",
        "y_pred_knn = knn_model.predict(X_test)\n",
        "\n",
        "# Değerlendirme metrikleri\n",
        "print(\"KNN Classification Report:\\n\", classification_report(y_test, y_pred_knn))\n",
        "print('KNN Train Accuracy : %.3f' % knn_model.score(X_train, y_train))\n",
        "print('KNN Test Accuracy : %.3f' % knn_model.score(X_test, y_test))\n",
        "print(precision_score(y_test, y_pred_knn, average='macro'), \": is the precision score\")\n",
        "print(recall_score(y_test, y_pred_knn, average='macro'), \": is the recall score\")\n",
        "print(f1_score(y_test, y_pred_knn, average='macro'), \": is the f1 score\")\n",
        "\n",
        "# Karışıklık Matrisi Görselleştirmesi\n",
        "def plot_confusion_matrix(Y_test, Y_preds):\n",
        "    conf_mat = confusion_matrix(Y_test, Y_preds)\n",
        "    fig = plt.figure(figsize=(6,6))\n",
        "    plt.matshow(conf_mat, cmap=plt.cm.Blues, fignum=1)\n",
        "    plt.yticks(range(2), range(2))\n",
        "    plt.xticks(range(2), range(2))\n",
        "    plt.colorbar()\n",
        "    for i in range(2):\n",
        "        for j in range(2):\n",
        "            plt.text(i-0.2, j+0.1, str(conf_mat[j, i]), color='tab:red')\n",
        "\n",
        "plot_confusion_matrix(y_test, y_pred_knn)\n",
        "plt.show()\n"
      ],
      "metadata": {
        "colab": {
          "base_uri": "https://localhost:8080/",
          "height": 779
        },
        "id": "A-fPyc2UQBxO",
        "outputId": "38f1a477-67c8-4340-cb11-0685141d55ef"
      },
      "execution_count": null,
      "outputs": [
        {
          "output_type": "stream",
          "name": "stdout",
          "text": [
            "KNN CV average score: 0.58\n",
            "KNN Classification Report:\n",
            "               precision    recall  f1-score   support\n",
            "\n",
            "           0       0.52      0.99      0.69      1333\n",
            "           1       0.90      0.11      0.19      1333\n",
            "\n",
            "    accuracy                           0.55      2666\n",
            "   macro avg       0.71      0.55      0.44      2666\n",
            "weighted avg       0.71      0.55      0.44      2666\n",
            "\n",
            "KNN Train Accuracy : 0.996\n",
            "KNN Test Accuracy : 0.547\n",
            "0.7114997474061531 : is the precision score\n",
            "0.5468867216804201 : is the recall score\n",
            "0.4374210859137264 : is the f1 score\n"
          ]
        },
        {
          "output_type": "display_data",
          "data": {
            "text/plain": [
              "<Figure size 600x600 with 2 Axes>"
            ],
            "image/png": "[encoded data removed]"
          },
          "metadata": {}
        }
      ]
    },
    {
      "cell_type": "code",
      "source": [
        "# Yorumları işleyerek duygu analizi yapma\n",
        "print(\"\\nKNN Model ile Yorum Analizi Sonuçları:\\n\")\n",
        "for comment in comment_list:\n",
        "    processed_comment = pre_processing(comment)\n",
        "    prediction = knn_model.predict([processed_comment])\n",
        "    probability = knn_model.predict_proba([processed_comment])\n",
        "\n",
        "    if prediction[0] == 1:\n",
        "        print(comment, \" is Positive with probability:\", probability[0][1])\n",
        "    else:\n",
        "        print(comment, \" is Negative with probability:\", probability[0][0])\n"
      ],
      "metadata": {
        "colab": {
          "base_uri": "https://localhost:8080/"
        },
        "id": "v9IdUUZ4QDiJ",
        "outputId": "563c5b73-2e99-4503-8876-1935534de405"
      },
      "execution_count": null,
      "outputs": [
        {
          "output_type": "stream",
          "name": "stdout",
          "text": [
            "\n",
            "KNN Model ile Yorum Analizi Sonuçları:\n",
            "\n"
          ]
        }
      ]
    },
    {
      "cell_type": "code",
      "source": [
        "# Manuel metin analizi\n",
        "manuel_metin = input(\"Lütfen duygu analizi yapmak istediğiniz metni girin: \")\n",
        "\n",
        "# Metnin duygu analizini yap\n",
        "processed_manuel_metin = pre_processing(manuel_metin)\n",
        "prediction = knn_model.predict([processed_manuel_metin])\n",
        "probability = knn_model.predict_proba([processed_manuel_metin])\n",
        "\n",
        "# Duygu analizinin sonuçlarını yazdır\n",
        "if prediction[0] == 1:\n",
        "    print(\"Girdiğiniz metin Pozitif duygu içeriyor. Olasılık: \", probability[0][1])\n",
        "else:\n",
        "    print(\"Girdiğiniz metin Negatif duygu içeriyor. Olasılık: \", probability[0][0])\n"
      ],
      "metadata": {
        "colab": {
          "base_uri": "https://localhost:8080/"
        },
        "id": "7xnQMNxjQGZI",
        "outputId": "20918072-0ac8-4b94-818d-824f41806536"
      },
      "execution_count": null,
      "outputs": [
        {
          "output_type": "stream",
          "name": "stdout",
          "text": [
            "Lütfen duygu analizi yapmak istediğiniz metni girin: bu bilgisayar beş kuruş etmez\n",
            "Girdiğiniz metin Negatif duygu içeriyor. Olasılık:  0.6\n"
          ]
        }
      ]
    }
  ]
}